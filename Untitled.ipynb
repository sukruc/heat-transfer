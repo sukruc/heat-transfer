{
 "cells": [
  {
   "cell_type": "code",
   "execution_count": 14,
   "metadata": {},
   "outputs": [],
   "source": [
    "import pandas as pd\n",
    "import numpy as np"
   ]
  },
  {
   "cell_type": "code",
   "execution_count": 15,
   "metadata": {},
   "outputs": [],
   "source": [
    "df = pd.read_csv('delta T.csv')"
   ]
  },
  {
   "cell_type": "code",
   "execution_count": 16,
   "metadata": {},
   "outputs": [
    {
     "data": {
      "text/html": [
       "<div>\n",
       "<style scoped>\n",
       "    .dataframe tbody tr th:only-of-type {\n",
       "        vertical-align: middle;\n",
       "    }\n",
       "\n",
       "    .dataframe tbody tr th {\n",
       "        vertical-align: top;\n",
       "    }\n",
       "\n",
       "    .dataframe thead th {\n",
       "        text-align: right;\n",
       "    }\n",
       "</style>\n",
       "<table border=\"1\" class=\"dataframe\">\n",
       "  <thead>\n",
       "    <tr style=\"text-align: right;\">\n",
       "      <th></th>\n",
       "      <th>hr</th>\n",
       "      <th>hc</th>\n",
       "      <th>totalT</th>\n",
       "      <th>RT</th>\n",
       "      <th>CT</th>\n",
       "    </tr>\n",
       "  </thead>\n",
       "  <tbody>\n",
       "    <tr>\n",
       "      <td>0</td>\n",
       "      <td>4.87</td>\n",
       "      <td>12.01</td>\n",
       "      <td>24.78</td>\n",
       "      <td>24.77</td>\n",
       "      <td>24.89</td>\n",
       "    </tr>\n",
       "    <tr>\n",
       "      <td>1</td>\n",
       "      <td>5.20</td>\n",
       "      <td>12.77</td>\n",
       "      <td>29.75</td>\n",
       "      <td>29.73</td>\n",
       "      <td>30.46</td>\n",
       "    </tr>\n",
       "    <tr>\n",
       "      <td>2</td>\n",
       "      <td>5.48</td>\n",
       "      <td>13.35</td>\n",
       "      <td>34.05</td>\n",
       "      <td>34.71</td>\n",
       "      <td>34.75</td>\n",
       "    </tr>\n",
       "    <tr>\n",
       "      <td>3</td>\n",
       "      <td>5.73</td>\n",
       "      <td>13.71</td>\n",
       "      <td>39.72</td>\n",
       "      <td>39.71</td>\n",
       "      <td>39.85</td>\n",
       "    </tr>\n",
       "    <tr>\n",
       "      <td>4</td>\n",
       "      <td>5.96</td>\n",
       "      <td>13.95</td>\n",
       "      <td>44.70</td>\n",
       "      <td>44.73</td>\n",
       "      <td>44.36</td>\n",
       "    </tr>\n",
       "    <tr>\n",
       "      <td>5</td>\n",
       "      <td>6.19</td>\n",
       "      <td>14.15</td>\n",
       "      <td>49.67</td>\n",
       "      <td>49.66</td>\n",
       "      <td>49.99</td>\n",
       "    </tr>\n",
       "    <tr>\n",
       "      <td>6</td>\n",
       "      <td>6.40</td>\n",
       "      <td>14.43</td>\n",
       "      <td>54.90</td>\n",
       "      <td>54.70</td>\n",
       "      <td>54.69</td>\n",
       "    </tr>\n",
       "    <tr>\n",
       "      <td>7</td>\n",
       "      <td>6.61</td>\n",
       "      <td>14.45</td>\n",
       "      <td>59.83</td>\n",
       "      <td>59.71</td>\n",
       "      <td>59.68</td>\n",
       "    </tr>\n",
       "    <tr>\n",
       "      <td>8</td>\n",
       "      <td>6.82</td>\n",
       "      <td>14.67</td>\n",
       "      <td>65.16</td>\n",
       "      <td>64.70</td>\n",
       "      <td>64.00</td>\n",
       "    </tr>\n",
       "  </tbody>\n",
       "</table>\n",
       "</div>"
      ],
      "text/plain": [
       "     hr     hc  totalT     RT     CT\n",
       "0  4.87  12.01   24.78  24.77  24.89\n",
       "1  5.20  12.77   29.75  29.73  30.46\n",
       "2  5.48  13.35   34.05  34.71  34.75\n",
       "3  5.73  13.71   39.72  39.71  39.85\n",
       "4  5.96  13.95   44.70  44.73  44.36\n",
       "5  6.19  14.15   49.67  49.66  49.99\n",
       "6  6.40  14.43   54.90  54.70  54.69\n",
       "7  6.61  14.45   59.83  59.71  59.68\n",
       "8  6.82  14.67   65.16  64.70  64.00"
      ]
     },
     "execution_count": 16,
     "metadata": {},
     "output_type": "execute_result"
    }
   ],
   "source": [
    "df"
   ]
  },
  {
   "cell_type": "code",
   "execution_count": 17,
   "metadata": {},
   "outputs": [
    {
     "ename": "SyntaxError",
     "evalue": "invalid syntax (<ipython-input-17-0c2d7c3f5e51>, line 1)",
     "output_type": "error",
     "traceback": [
      "\u001b[1;36m  File \u001b[1;32m\"<ipython-input-17-0c2d7c3f5e51>\"\u001b[1;36m, line \u001b[1;32m1\u001b[0m\n\u001b[1;33m    loghc = y log x + y log hr + y log delta T\u001b[0m\n\u001b[1;37m                ^\u001b[0m\n\u001b[1;31mSyntaxError\u001b[0m\u001b[1;31m:\u001b[0m invalid syntax\n"
     ]
    }
   ],
   "source": [
    "loghc = y1 log x + y2 log hr + y3 log delta T"
   ]
  },
  {
   "cell_type": "code",
   "execution_count": 27,
   "metadata": {},
   "outputs": [],
   "source": [
    "y = np.log(df)['hc']\n",
    "\n",
    "X = np.log(df).drop(['hc', 'RT', 'CT'], 1)"
   ]
  },
  {
   "cell_type": "code",
   "execution_count": 28,
   "metadata": {},
   "outputs": [],
   "source": [
    "from sklearn.linear_model import LinearRegression"
   ]
  },
  {
   "cell_type": "code",
   "execution_count": 29,
   "metadata": {},
   "outputs": [],
   "source": [
    "lm = LinearRegression()"
   ]
  },
  {
   "cell_type": "code",
   "execution_count": 30,
   "metadata": {},
   "outputs": [
    {
     "data": {
      "text/plain": [
       "LinearRegression(copy_X=True, fit_intercept=True, n_jobs=None, normalize=False)"
      ]
     },
     "execution_count": 30,
     "metadata": {},
     "output_type": "execute_result"
    }
   ],
   "source": [
    "lm.fit(X, y)"
   ]
  },
  {
   "cell_type": "code",
   "execution_count": 31,
   "metadata": {},
   "outputs": [
    {
     "data": {
      "text/plain": [
       "0.9543216735799688"
      ]
     },
     "execution_count": 31,
     "metadata": {},
     "output_type": "execute_result"
    }
   ],
   "source": [
    "lm.score(X, y)"
   ]
  },
  {
   "cell_type": "code",
   "execution_count": 32,
   "metadata": {},
   "outputs": [
    {
     "data": {
      "text/plain": [
       "1.3813549155472828"
      ]
     },
     "execution_count": 32,
     "metadata": {},
     "output_type": "execute_result"
    }
   ],
   "source": [
    "lm.intercept_"
   ]
  },
  {
   "cell_type": "code",
   "execution_count": 33,
   "metadata": {},
   "outputs": [
    {
     "data": {
      "text/html": [
       "<div>\n",
       "<style scoped>\n",
       "    .dataframe tbody tr th:only-of-type {\n",
       "        vertical-align: middle;\n",
       "    }\n",
       "\n",
       "    .dataframe tbody tr th {\n",
       "        vertical-align: top;\n",
       "    }\n",
       "\n",
       "    .dataframe thead th {\n",
       "        text-align: right;\n",
       "    }\n",
       "</style>\n",
       "<table border=\"1\" class=\"dataframe\">\n",
       "  <thead>\n",
       "    <tr style=\"text-align: right;\">\n",
       "      <th></th>\n",
       "      <th>hr</th>\n",
       "      <th>totalT</th>\n",
       "    </tr>\n",
       "  </thead>\n",
       "  <tbody>\n",
       "    <tr>\n",
       "      <td>0</td>\n",
       "      <td>1.583094</td>\n",
       "      <td>3.210037</td>\n",
       "    </tr>\n",
       "    <tr>\n",
       "      <td>1</td>\n",
       "      <td>1.648659</td>\n",
       "      <td>3.392829</td>\n",
       "    </tr>\n",
       "    <tr>\n",
       "      <td>2</td>\n",
       "      <td>1.701105</td>\n",
       "      <td>3.527830</td>\n",
       "    </tr>\n",
       "    <tr>\n",
       "      <td>3</td>\n",
       "      <td>1.745716</td>\n",
       "      <td>3.681855</td>\n",
       "    </tr>\n",
       "    <tr>\n",
       "      <td>4</td>\n",
       "      <td>1.785070</td>\n",
       "      <td>3.799974</td>\n",
       "    </tr>\n",
       "    <tr>\n",
       "      <td>5</td>\n",
       "      <td>1.822935</td>\n",
       "      <td>3.905401</td>\n",
       "    </tr>\n",
       "    <tr>\n",
       "      <td>6</td>\n",
       "      <td>1.856298</td>\n",
       "      <td>4.005513</td>\n",
       "    </tr>\n",
       "    <tr>\n",
       "      <td>7</td>\n",
       "      <td>1.888584</td>\n",
       "      <td>4.091507</td>\n",
       "    </tr>\n",
       "    <tr>\n",
       "      <td>8</td>\n",
       "      <td>1.919859</td>\n",
       "      <td>4.176846</td>\n",
       "    </tr>\n",
       "  </tbody>\n",
       "</table>\n",
       "</div>"
      ],
      "text/plain": [
       "         hr    totalT\n",
       "0  1.583094  3.210037\n",
       "1  1.648659  3.392829\n",
       "2  1.701105  3.527830\n",
       "3  1.745716  3.681855\n",
       "4  1.785070  3.799974\n",
       "5  1.822935  3.905401\n",
       "6  1.856298  4.005513\n",
       "7  1.888584  4.091507\n",
       "8  1.919859  4.176846"
      ]
     },
     "execution_count": 33,
     "metadata": {},
     "output_type": "execute_result"
    }
   ],
   "source": [
    "X"
   ]
  },
  {
   "cell_type": "code",
   "execution_count": 34,
   "metadata": {
    "scrolled": true
   },
   "outputs": [
    {
     "data": {
      "text/plain": [
       "array([ 1.04195486, -0.16273972])"
      ]
     },
     "execution_count": 34,
     "metadata": {},
     "output_type": "execute_result"
    }
   ],
   "source": [
    "lm.coef_"
   ]
  },
  {
   "cell_type": "markdown",
   "metadata": {},
   "source": [
    "$$log(h_c) = b_0 + b_1 log(h_r) + b_2 log (Total\\ \\Delta T)$$\n",
    "$$b_0=1.3813549155472828$$\n",
    "$$b_1=1.04195486$$\n",
    "$$b_2=-0.16273972$$"
   ]
  },
  {
   "cell_type": "code",
   "execution_count": null,
   "metadata": {},
   "outputs": [],
   "source": [
    "log hc = b0 + b1 log hr + b2 log TT"
   ]
  },
  {
   "cell_type": "code",
   "execution_count": null,
   "metadata": {},
   "outputs": [],
   "source": [
    "hc = e**(b0 + b1 log(hr) + b2 log(TT))\n",
    "\n",
    "e**b0 * e**(b1 log (hr)) * e**(b2 log(TT))"
   ]
  },
  {
   "cell_type": "code",
   "execution_count": null,
   "metadata": {},
   "outputs": [],
   "source": [
    "hc = e**b0 * hr * e**b1 * TT * e ** b2"
   ]
  },
  {
   "cell_type": "code",
   "execution_count": null,
   "metadata": {},
   "outputs": [],
   "source": []
  },
  {
   "cell_type": "code",
   "execution_count": null,
   "metadata": {},
   "outputs": [],
   "source": []
  },
  {
   "cell_type": "code",
   "execution_count": 8,
   "metadata": {},
   "outputs": [],
   "source": [
    "df = pd.read_csv('values.csv')"
   ]
  },
  {
   "cell_type": "code",
   "execution_count": 9,
   "metadata": {},
   "outputs": [],
   "source": [
    "df.columns = df.loc[0]\n",
    "df = df.drop(0)"
   ]
  },
  {
   "cell_type": "markdown",
   "metadata": {},
   "source": [
    "$$\\frac{h_r}{h_c} = x(T_c - T_a) ^{y}$$"
   ]
  },
  {
   "cell_type": "code",
   "execution_count": 10,
   "metadata": {},
   "outputs": [
    {
     "data": {
      "text/html": [
       "<div>\n",
       "<style scoped>\n",
       "    .dataframe tbody tr th:only-of-type {\n",
       "        vertical-align: middle;\n",
       "    }\n",
       "\n",
       "    .dataframe tbody tr th {\n",
       "        vertical-align: top;\n",
       "    }\n",
       "\n",
       "    .dataframe thead th {\n",
       "        text-align: right;\n",
       "    }\n",
       "</style>\n",
       "<table border=\"1\" class=\"dataframe\">\n",
       "  <thead>\n",
       "    <tr style=\"text-align: right;\">\n",
       "      <th></th>\n",
       "      <th>No</th>\n",
       "      <th>Folder\\nNo</th>\n",
       "      <th>Condition</th>\n",
       "      <th>Iterations</th>\n",
       "      <th>Mesh</th>\n",
       "      <th>Radiator Surface\\nTemperature\\nK</th>\n",
       "      <th>Walls\\nTemperature\\nK</th>\n",
       "      <th>Radiator\\nDimensions\\ncm</th>\n",
       "      <th>Fresh Air \\nVelocity\\nm/s</th>\n",
       "      <th>Fresh Air\\nTemperature\\nK</th>\n",
       "      <th>...</th>\n",
       "      <th>ht\\nW/m2 K</th>\n",
       "      <th>Nu</th>\n",
       "      <th>Area-weighted average\\nWall\\nyplus</th>\n",
       "      <th>Max\\nWall\\nyplus</th>\n",
       "      <th>AUST</th>\n",
       "      <th>Ta</th>\n",
       "      <th>Ts</th>\n",
       "      <th>Radiation\\nΔT</th>\n",
       "      <th>Convection \\nΔT</th>\n",
       "      <th>Total \\nΔT</th>\n",
       "    </tr>\n",
       "  </thead>\n",
       "  <tbody>\n",
       "    <tr>\n",
       "      <td>1</td>\n",
       "      <td>1-1</td>\n",
       "      <td>6</td>\n",
       "      <td>Radiator</td>\n",
       "      <td>5,000</td>\n",
       "      <td>138,246</td>\n",
       "      <td>313</td>\n",
       "      <td>293</td>\n",
       "      <td>110 x 55 x 10</td>\n",
       "      <td>2</td>\n",
       "      <td>285</td>\n",
       "      <td>...</td>\n",
       "      <td>16.93</td>\n",
       "      <td>699.77</td>\n",
       "      <td>NaN</td>\n",
       "      <td>NaN</td>\n",
       "      <td>288.23</td>\n",
       "      <td>288.11</td>\n",
       "      <td>313.00</td>\n",
       "      <td>24.77</td>\n",
       "      <td>24.89</td>\n",
       "      <td>24.78</td>\n",
       "    </tr>\n",
       "    <tr>\n",
       "      <td>2</td>\n",
       "      <td>1-2</td>\n",
       "      <td>8</td>\n",
       "      <td>Radiator</td>\n",
       "      <td>5,000</td>\n",
       "      <td>138,246</td>\n",
       "      <td>318</td>\n",
       "      <td>293</td>\n",
       "      <td>110 x 55 x 10</td>\n",
       "      <td>2</td>\n",
       "      <td>285</td>\n",
       "      <td>...</td>\n",
       "      <td>18.27</td>\n",
       "      <td>754.91</td>\n",
       "      <td>5.30</td>\n",
       "      <td>18.57</td>\n",
       "      <td>288.27</td>\n",
       "      <td>287.54</td>\n",
       "      <td>318.00</td>\n",
       "      <td>29.73</td>\n",
       "      <td>30.46</td>\n",
       "      <td>29.75</td>\n",
       "    </tr>\n",
       "    <tr>\n",
       "      <td>3</td>\n",
       "      <td>1-3</td>\n",
       "      <td>9</td>\n",
       "      <td>Radiator</td>\n",
       "      <td>5,000</td>\n",
       "      <td>138,246</td>\n",
       "      <td>323</td>\n",
       "      <td>293</td>\n",
       "      <td>110 x 55 x 10</td>\n",
       "      <td>2</td>\n",
       "      <td>285</td>\n",
       "      <td>...</td>\n",
       "      <td>19.21</td>\n",
       "      <td>793.60</td>\n",
       "      <td>5.87</td>\n",
       "      <td>18.00</td>\n",
       "      <td>288.29</td>\n",
       "      <td>288.25</td>\n",
       "      <td>323.00</td>\n",
       "      <td>34.71</td>\n",
       "      <td>34.75</td>\n",
       "      <td>34.05</td>\n",
       "    </tr>\n",
       "    <tr>\n",
       "      <td>4</td>\n",
       "      <td>1-4</td>\n",
       "      <td>10</td>\n",
       "      <td>Radiator</td>\n",
       "      <td>5,000</td>\n",
       "      <td>138,246</td>\n",
       "      <td>328</td>\n",
       "      <td>293</td>\n",
       "      <td>110 x 55 x 10</td>\n",
       "      <td>2</td>\n",
       "      <td>285</td>\n",
       "      <td>...</td>\n",
       "      <td>19.48</td>\n",
       "      <td>805.10</td>\n",
       "      <td>5.62</td>\n",
       "      <td>18.74</td>\n",
       "      <td>288.29</td>\n",
       "      <td>288.15</td>\n",
       "      <td>328.00</td>\n",
       "      <td>39.71</td>\n",
       "      <td>39.85</td>\n",
       "      <td>39.72</td>\n",
       "    </tr>\n",
       "    <tr>\n",
       "      <td>5</td>\n",
       "      <td>1-5</td>\n",
       "      <td>11</td>\n",
       "      <td>Radiator</td>\n",
       "      <td>5,000</td>\n",
       "      <td>138,246</td>\n",
       "      <td>333</td>\n",
       "      <td>293</td>\n",
       "      <td>110 x 55 x 10</td>\n",
       "      <td>2</td>\n",
       "      <td>285</td>\n",
       "      <td>...</td>\n",
       "      <td>19.81</td>\n",
       "      <td>818.56</td>\n",
       "      <td>5.89</td>\n",
       "      <td>19.29</td>\n",
       "      <td>288.27</td>\n",
       "      <td>288.64</td>\n",
       "      <td>333.00</td>\n",
       "      <td>44.73</td>\n",
       "      <td>44.36</td>\n",
       "      <td>44.70</td>\n",
       "    </tr>\n",
       "    <tr>\n",
       "      <td>6</td>\n",
       "      <td>1-6</td>\n",
       "      <td>12</td>\n",
       "      <td>Radiator</td>\n",
       "      <td>5,000</td>\n",
       "      <td>138,246</td>\n",
       "      <td>338</td>\n",
       "      <td>293</td>\n",
       "      <td>110 x 55 x 10</td>\n",
       "      <td>2</td>\n",
       "      <td>285</td>\n",
       "      <td>...</td>\n",
       "      <td>20.43</td>\n",
       "      <td>844.03</td>\n",
       "      <td>6.00</td>\n",
       "      <td>21.57</td>\n",
       "      <td>288.34</td>\n",
       "      <td>288.01</td>\n",
       "      <td>338.00</td>\n",
       "      <td>49.66</td>\n",
       "      <td>49.99</td>\n",
       "      <td>49.67</td>\n",
       "    </tr>\n",
       "    <tr>\n",
       "      <td>7</td>\n",
       "      <td>1-7</td>\n",
       "      <td>13</td>\n",
       "      <td>Radiator</td>\n",
       "      <td>5,000</td>\n",
       "      <td>138,246</td>\n",
       "      <td>343</td>\n",
       "      <td>293</td>\n",
       "      <td>110 x 55 x 10</td>\n",
       "      <td>2</td>\n",
       "      <td>285</td>\n",
       "      <td>...</td>\n",
       "      <td>20.75</td>\n",
       "      <td>857.38</td>\n",
       "      <td>5.99</td>\n",
       "      <td>19.10</td>\n",
       "      <td>288.30</td>\n",
       "      <td>288.31</td>\n",
       "      <td>343.00</td>\n",
       "      <td>54.70</td>\n",
       "      <td>54.69</td>\n",
       "      <td>54.90</td>\n",
       "    </tr>\n",
       "    <tr>\n",
       "      <td>8</td>\n",
       "      <td>1-8</td>\n",
       "      <td>14</td>\n",
       "      <td>Radiator</td>\n",
       "      <td>5,000</td>\n",
       "      <td>138,246</td>\n",
       "      <td>348</td>\n",
       "      <td>293</td>\n",
       "      <td>110 x 55 x 10</td>\n",
       "      <td>2</td>\n",
       "      <td>285</td>\n",
       "      <td>...</td>\n",
       "      <td>21.01</td>\n",
       "      <td>868.07</td>\n",
       "      <td>6.23</td>\n",
       "      <td>19.17</td>\n",
       "      <td>288.29</td>\n",
       "      <td>288.32</td>\n",
       "      <td>348.00</td>\n",
       "      <td>59.71</td>\n",
       "      <td>59.68</td>\n",
       "      <td>59.83</td>\n",
       "    </tr>\n",
       "    <tr>\n",
       "      <td>9</td>\n",
       "      <td>1-9</td>\n",
       "      <td>15</td>\n",
       "      <td>Radiator</td>\n",
       "      <td>5,000</td>\n",
       "      <td>138,246</td>\n",
       "      <td>353</td>\n",
       "      <td>293</td>\n",
       "      <td>110 x 55 x 10</td>\n",
       "      <td>2</td>\n",
       "      <td>285</td>\n",
       "      <td>...</td>\n",
       "      <td>21.18</td>\n",
       "      <td>875.28</td>\n",
       "      <td>6.33</td>\n",
       "      <td>20.58</td>\n",
       "      <td>288.30</td>\n",
       "      <td>289.00</td>\n",
       "      <td>353.00</td>\n",
       "      <td>64.70</td>\n",
       "      <td>64.00</td>\n",
       "      <td>65.16</td>\n",
       "    </tr>\n",
       "    <tr>\n",
       "      <td>10</td>\n",
       "      <td>2-1</td>\n",
       "      <td>16</td>\n",
       "      <td>Radiator</td>\n",
       "      <td>5,000</td>\n",
       "      <td>138,246</td>\n",
       "      <td>313</td>\n",
       "      <td>293</td>\n",
       "      <td>110 x 55 x 10</td>\n",
       "      <td>1.5</td>\n",
       "      <td>285</td>\n",
       "      <td>...</td>\n",
       "      <td>16.40</td>\n",
       "      <td>677.84</td>\n",
       "      <td>4.40</td>\n",
       "      <td>14.77</td>\n",
       "      <td>288.22</td>\n",
       "      <td>288.53</td>\n",
       "      <td>313.00</td>\n",
       "      <td>24.78</td>\n",
       "      <td>24.47</td>\n",
       "      <td>24.78</td>\n",
       "    </tr>\n",
       "    <tr>\n",
       "      <td>11</td>\n",
       "      <td>2-2</td>\n",
       "      <td>17</td>\n",
       "      <td>Radiator</td>\n",
       "      <td>5,000</td>\n",
       "      <td>138,246</td>\n",
       "      <td>318</td>\n",
       "      <td>293</td>\n",
       "      <td>110 x 55 x 10</td>\n",
       "      <td>1.5</td>\n",
       "      <td>285</td>\n",
       "      <td>...</td>\n",
       "      <td>17.64</td>\n",
       "      <td>728.84</td>\n",
       "      <td>4.88</td>\n",
       "      <td>15.13</td>\n",
       "      <td>288.26</td>\n",
       "      <td>288.60</td>\n",
       "      <td>318.00</td>\n",
       "      <td>29.74</td>\n",
       "      <td>29.40</td>\n",
       "      <td>29.71</td>\n",
       "    </tr>\n",
       "    <tr>\n",
       "      <td>12</td>\n",
       "      <td>2-3</td>\n",
       "      <td>18</td>\n",
       "      <td>Radiator</td>\n",
       "      <td>5,000</td>\n",
       "      <td>138,246</td>\n",
       "      <td>323</td>\n",
       "      <td>293</td>\n",
       "      <td>110 x 55 x 10</td>\n",
       "      <td>1.5</td>\n",
       "      <td>285</td>\n",
       "      <td>...</td>\n",
       "      <td>18.86</td>\n",
       "      <td>779.28</td>\n",
       "      <td>4.83</td>\n",
       "      <td>16.99</td>\n",
       "      <td>288.17</td>\n",
       "      <td>287.64</td>\n",
       "      <td>323.00</td>\n",
       "      <td>34.83</td>\n",
       "      <td>35.36</td>\n",
       "      <td>34.74</td>\n",
       "    </tr>\n",
       "    <tr>\n",
       "      <td>13</td>\n",
       "      <td>2-4</td>\n",
       "      <td>19</td>\n",
       "      <td>Radiator</td>\n",
       "      <td>5,000</td>\n",
       "      <td>138,246</td>\n",
       "      <td>328</td>\n",
       "      <td>293</td>\n",
       "      <td>110 x 55 x 10</td>\n",
       "      <td>1.5</td>\n",
       "      <td>285</td>\n",
       "      <td>...</td>\n",
       "      <td>18.94</td>\n",
       "      <td>782.57</td>\n",
       "      <td>5.31</td>\n",
       "      <td>17.06</td>\n",
       "      <td>288.28</td>\n",
       "      <td>288.61</td>\n",
       "      <td>328.00</td>\n",
       "      <td>39.72</td>\n",
       "      <td>39.39</td>\n",
       "      <td>39.72</td>\n",
       "    </tr>\n",
       "    <tr>\n",
       "      <td>14</td>\n",
       "      <td>2-5</td>\n",
       "      <td>20</td>\n",
       "      <td>Radiator</td>\n",
       "      <td>5,000</td>\n",
       "      <td>138,246</td>\n",
       "      <td>333</td>\n",
       "      <td>293</td>\n",
       "      <td>110 x 55 x 10</td>\n",
       "      <td>1.5</td>\n",
       "      <td>285</td>\n",
       "      <td>...</td>\n",
       "      <td>19.80</td>\n",
       "      <td>818.11</td>\n",
       "      <td>5.53</td>\n",
       "      <td>17.70</td>\n",
       "      <td>288.27</td>\n",
       "      <td>288.27</td>\n",
       "      <td>333.00</td>\n",
       "      <td>44.73</td>\n",
       "      <td>44.73</td>\n",
       "      <td>43.92</td>\n",
       "    </tr>\n",
       "    <tr>\n",
       "      <td>15</td>\n",
       "      <td>2-6</td>\n",
       "      <td>21</td>\n",
       "      <td>Radiator</td>\n",
       "      <td>5,000</td>\n",
       "      <td>138,246</td>\n",
       "      <td>338</td>\n",
       "      <td>293</td>\n",
       "      <td>110 x 55 x 10</td>\n",
       "      <td>1.5</td>\n",
       "      <td>285</td>\n",
       "      <td>...</td>\n",
       "      <td>19.87</td>\n",
       "      <td>820.91</td>\n",
       "      <td>5.71</td>\n",
       "      <td>19.99</td>\n",
       "      <td>288.33</td>\n",
       "      <td>288.79</td>\n",
       "      <td>338.00</td>\n",
       "      <td>49.67</td>\n",
       "      <td>49.21</td>\n",
       "      <td>49.43</td>\n",
       "    </tr>\n",
       "    <tr>\n",
       "      <td>16</td>\n",
       "      <td>2-7</td>\n",
       "      <td>22</td>\n",
       "      <td>Radiator</td>\n",
       "      <td>5,000</td>\n",
       "      <td>138,246</td>\n",
       "      <td>343</td>\n",
       "      <td>293</td>\n",
       "      <td>110 x 55 x 10</td>\n",
       "      <td>1.5</td>\n",
       "      <td>285</td>\n",
       "      <td>...</td>\n",
       "      <td>20.38</td>\n",
       "      <td>842.09</td>\n",
       "      <td>5.90</td>\n",
       "      <td>20.56</td>\n",
       "      <td>288.29</td>\n",
       "      <td>288.25</td>\n",
       "      <td>343.00</td>\n",
       "      <td>54.71</td>\n",
       "      <td>54.75</td>\n",
       "      <td>54.66</td>\n",
       "    </tr>\n",
       "    <tr>\n",
       "      <td>17</td>\n",
       "      <td>2-8</td>\n",
       "      <td>23</td>\n",
       "      <td>Radiator</td>\n",
       "      <td>5,000</td>\n",
       "      <td>138,246</td>\n",
       "      <td>348</td>\n",
       "      <td>293</td>\n",
       "      <td>110 x 55 x 10</td>\n",
       "      <td>1.5</td>\n",
       "      <td>285</td>\n",
       "      <td>...</td>\n",
       "      <td>20.72</td>\n",
       "      <td>856.01</td>\n",
       "      <td>6.02</td>\n",
       "      <td>17.06</td>\n",
       "      <td>288.28</td>\n",
       "      <td>288.42</td>\n",
       "      <td>348.00</td>\n",
       "      <td>59.72</td>\n",
       "      <td>59.58</td>\n",
       "      <td>59.63</td>\n",
       "    </tr>\n",
       "    <tr>\n",
       "      <td>18</td>\n",
       "      <td>2-9</td>\n",
       "      <td>24</td>\n",
       "      <td>Radiator</td>\n",
       "      <td>5,000</td>\n",
       "      <td>138,246</td>\n",
       "      <td>353</td>\n",
       "      <td>293</td>\n",
       "      <td>110 x 55 x 10</td>\n",
       "      <td>1.5</td>\n",
       "      <td>285</td>\n",
       "      <td>...</td>\n",
       "      <td>21.06</td>\n",
       "      <td>894.71</td>\n",
       "      <td>6.22</td>\n",
       "      <td>21.34</td>\n",
       "      <td>288.31</td>\n",
       "      <td>288.71</td>\n",
       "      <td>353.00</td>\n",
       "      <td>64.69</td>\n",
       "      <td>64.29</td>\n",
       "      <td>64.60</td>\n",
       "    </tr>\n",
       "    <tr>\n",
       "      <td>19</td>\n",
       "      <td>3-1</td>\n",
       "      <td>25</td>\n",
       "      <td>Radiator</td>\n",
       "      <td>5,000</td>\n",
       "      <td>138,246</td>\n",
       "      <td>313</td>\n",
       "      <td>293</td>\n",
       "      <td>110 x 55 x 10</td>\n",
       "      <td>2.5</td>\n",
       "      <td>285</td>\n",
       "      <td>...</td>\n",
       "      <td>17.15</td>\n",
       "      <td>708.15</td>\n",
       "      <td>5.46</td>\n",
       "      <td>20.57</td>\n",
       "      <td>288.23</td>\n",
       "      <td>288.28</td>\n",
       "      <td>313.00</td>\n",
       "      <td>24.77</td>\n",
       "      <td>24.72</td>\n",
       "      <td>24.77</td>\n",
       "    </tr>\n",
       "    <tr>\n",
       "      <td>20</td>\n",
       "      <td>3-2</td>\n",
       "      <td>26</td>\n",
       "      <td>Radiator</td>\n",
       "      <td>5,000</td>\n",
       "      <td>138,246</td>\n",
       "      <td>318</td>\n",
       "      <td>293</td>\n",
       "      <td>110 x 55 x 10</td>\n",
       "      <td>2.5</td>\n",
       "      <td>285</td>\n",
       "      <td>...</td>\n",
       "      <td>18.16</td>\n",
       "      <td>750.43</td>\n",
       "      <td>6.18</td>\n",
       "      <td>22.85</td>\n",
       "      <td>288.27</td>\n",
       "      <td>288.30</td>\n",
       "      <td>318.00</td>\n",
       "      <td>29.73</td>\n",
       "      <td>29.70</td>\n",
       "      <td>29.76</td>\n",
       "    </tr>\n",
       "    <tr>\n",
       "      <td>21</td>\n",
       "      <td>3-3</td>\n",
       "      <td>27</td>\n",
       "      <td>Radiator</td>\n",
       "      <td>5,000</td>\n",
       "      <td>138,246</td>\n",
       "      <td>323</td>\n",
       "      <td>293</td>\n",
       "      <td>110 x 55 x 10</td>\n",
       "      <td>2.5</td>\n",
       "      <td>285</td>\n",
       "      <td>...</td>\n",
       "      <td>19.17</td>\n",
       "      <td>792.04</td>\n",
       "      <td>5.92</td>\n",
       "      <td>20.55</td>\n",
       "      <td>288.29</td>\n",
       "      <td>288.24</td>\n",
       "      <td>323.00</td>\n",
       "      <td>34.71</td>\n",
       "      <td>34.76</td>\n",
       "      <td>34.73</td>\n",
       "    </tr>\n",
       "    <tr>\n",
       "      <td>22</td>\n",
       "      <td>3-4</td>\n",
       "      <td>28</td>\n",
       "      <td>Radiator</td>\n",
       "      <td>5,000</td>\n",
       "      <td>138,246</td>\n",
       "      <td>328</td>\n",
       "      <td>293</td>\n",
       "      <td>110 x 55 x 10</td>\n",
       "      <td>2.5</td>\n",
       "      <td>285</td>\n",
       "      <td>...</td>\n",
       "      <td>19.94</td>\n",
       "      <td>823.80</td>\n",
       "      <td>5.99</td>\n",
       "      <td>20.71</td>\n",
       "      <td>288.29</td>\n",
       "      <td>288.18</td>\n",
       "      <td>328.00</td>\n",
       "      <td>39.71</td>\n",
       "      <td>39.82</td>\n",
       "      <td>39.71</td>\n",
       "    </tr>\n",
       "    <tr>\n",
       "      <td>23</td>\n",
       "      <td>3-5</td>\n",
       "      <td>29</td>\n",
       "      <td>Radiator</td>\n",
       "      <td>5,000</td>\n",
       "      <td>138,246</td>\n",
       "      <td>333</td>\n",
       "      <td>293</td>\n",
       "      <td>110 x 55 x 10</td>\n",
       "      <td>2.5</td>\n",
       "      <td>285</td>\n",
       "      <td>...</td>\n",
       "      <td>20.46</td>\n",
       "      <td>845.34</td>\n",
       "      <td>6.22</td>\n",
       "      <td>16.97</td>\n",
       "      <td>288.28</td>\n",
       "      <td>288.26</td>\n",
       "      <td>333.00</td>\n",
       "      <td>44.72</td>\n",
       "      <td>44.74</td>\n",
       "      <td>44.06</td>\n",
       "    </tr>\n",
       "    <tr>\n",
       "      <td>24</td>\n",
       "      <td>3-6</td>\n",
       "      <td>30</td>\n",
       "      <td>Radiator</td>\n",
       "      <td>5,000</td>\n",
       "      <td>138,246</td>\n",
       "      <td>338</td>\n",
       "      <td>293</td>\n",
       "      <td>110 x 55 x 10</td>\n",
       "      <td>2.5</td>\n",
       "      <td>285</td>\n",
       "      <td>...</td>\n",
       "      <td>20.61</td>\n",
       "      <td>851.66</td>\n",
       "      <td>6.21</td>\n",
       "      <td>19.18</td>\n",
       "      <td>288.34</td>\n",
       "      <td>288.32</td>\n",
       "      <td>338.00</td>\n",
       "      <td>49.66</td>\n",
       "      <td>49.68</td>\n",
       "      <td>49.67</td>\n",
       "    </tr>\n",
       "    <tr>\n",
       "      <td>25</td>\n",
       "      <td>3-7</td>\n",
       "      <td>31</td>\n",
       "      <td>Radiator</td>\n",
       "      <td>5,000</td>\n",
       "      <td>138,246</td>\n",
       "      <td>343</td>\n",
       "      <td>293</td>\n",
       "      <td>110 x 55 x 10</td>\n",
       "      <td>2.5</td>\n",
       "      <td>285</td>\n",
       "      <td>...</td>\n",
       "      <td>20.81</td>\n",
       "      <td>859.86</td>\n",
       "      <td>6.53</td>\n",
       "      <td>23.37</td>\n",
       "      <td>288.30</td>\n",
       "      <td>288.32</td>\n",
       "      <td>343.00</td>\n",
       "      <td>54.70</td>\n",
       "      <td>54.68</td>\n",
       "      <td>55.71</td>\n",
       "    </tr>\n",
       "    <tr>\n",
       "      <td>26</td>\n",
       "      <td>3-8</td>\n",
       "      <td>32</td>\n",
       "      <td>Radiator</td>\n",
       "      <td>5,000</td>\n",
       "      <td>138,246</td>\n",
       "      <td>348</td>\n",
       "      <td>293</td>\n",
       "      <td>110 x 55 x 10</td>\n",
       "      <td>2.5</td>\n",
       "      <td>285</td>\n",
       "      <td>...</td>\n",
       "      <td>21.55</td>\n",
       "      <td>890.69</td>\n",
       "      <td>6.48</td>\n",
       "      <td>20.37</td>\n",
       "      <td>288.30</td>\n",
       "      <td>288.31</td>\n",
       "      <td>348.00</td>\n",
       "      <td>59.70</td>\n",
       "      <td>59.69</td>\n",
       "      <td>59.64</td>\n",
       "    </tr>\n",
       "    <tr>\n",
       "      <td>27</td>\n",
       "      <td>3-9</td>\n",
       "      <td>33</td>\n",
       "      <td>Radiator</td>\n",
       "      <td>5,000</td>\n",
       "      <td>138,246</td>\n",
       "      <td>353</td>\n",
       "      <td>293</td>\n",
       "      <td>110 x 55 x 10</td>\n",
       "      <td>2.5</td>\n",
       "      <td>285</td>\n",
       "      <td>...</td>\n",
       "      <td>22.05</td>\n",
       "      <td>911.16</td>\n",
       "      <td>6.30</td>\n",
       "      <td>21.43</td>\n",
       "      <td>288.32</td>\n",
       "      <td>288.43</td>\n",
       "      <td>353.00</td>\n",
       "      <td>64.68</td>\n",
       "      <td>64.57</td>\n",
       "      <td>64.60</td>\n",
       "    </tr>\n",
       "  </tbody>\n",
       "</table>\n",
       "<p>27 rows × 27 columns</p>\n",
       "</div>"
      ],
      "text/plain": [
       "0    No Folder\\nNo Condition Iterations     Mesh  \\\n",
       "1   1-1          6  Radiator      5,000  138,246   \n",
       "2   1-2          8  Radiator      5,000  138,246   \n",
       "3   1-3          9  Radiator      5,000  138,246   \n",
       "4   1-4         10  Radiator      5,000  138,246   \n",
       "5   1-5         11  Radiator      5,000  138,246   \n",
       "6   1-6         12  Radiator      5,000  138,246   \n",
       "7   1-7         13  Radiator      5,000  138,246   \n",
       "8   1-8         14  Radiator      5,000  138,246   \n",
       "9   1-9         15  Radiator      5,000  138,246   \n",
       "10  2-1         16  Radiator      5,000  138,246   \n",
       "11  2-2         17  Radiator      5,000  138,246   \n",
       "12  2-3         18  Radiator      5,000  138,246   \n",
       "13  2-4         19  Radiator      5,000  138,246   \n",
       "14  2-5         20  Radiator      5,000  138,246   \n",
       "15  2-6         21  Radiator      5,000  138,246   \n",
       "16  2-7         22  Radiator      5,000  138,246   \n",
       "17  2-8         23  Radiator      5,000  138,246   \n",
       "18  2-9         24  Radiator      5,000  138,246   \n",
       "19  3-1         25  Radiator      5,000  138,246   \n",
       "20  3-2         26  Radiator      5,000  138,246   \n",
       "21  3-3         27  Radiator      5,000  138,246   \n",
       "22  3-4         28  Radiator      5,000  138,246   \n",
       "23  3-5         29  Radiator      5,000  138,246   \n",
       "24  3-6         30  Radiator      5,000  138,246   \n",
       "25  3-7         31  Radiator      5,000  138,246   \n",
       "26  3-8         32  Radiator      5,000  138,246   \n",
       "27  3-9         33  Radiator      5,000  138,246   \n",
       "\n",
       "0  Radiator Surface\\nTemperature\\nK Walls\\nTemperature\\nK  \\\n",
       "1                               313                   293   \n",
       "2                               318                   293   \n",
       "3                               323                   293   \n",
       "4                               328                   293   \n",
       "5                               333                   293   \n",
       "6                               338                   293   \n",
       "7                               343                   293   \n",
       "8                               348                   293   \n",
       "9                               353                   293   \n",
       "10                              313                   293   \n",
       "11                              318                   293   \n",
       "12                              323                   293   \n",
       "13                              328                   293   \n",
       "14                              333                   293   \n",
       "15                              338                   293   \n",
       "16                              343                   293   \n",
       "17                              348                   293   \n",
       "18                              353                   293   \n",
       "19                              313                   293   \n",
       "20                              318                   293   \n",
       "21                              323                   293   \n",
       "22                              328                   293   \n",
       "23                              333                   293   \n",
       "24                              338                   293   \n",
       "25                              343                   293   \n",
       "26                              348                   293   \n",
       "27                              353                   293   \n",
       "\n",
       "0  Radiator\\nDimensions\\ncm Fresh Air \\nVelocity\\nm/s  \\\n",
       "1             110 x 55 x 10                         2   \n",
       "2             110 x 55 x 10                         2   \n",
       "3             110 x 55 x 10                         2   \n",
       "4             110 x 55 x 10                         2   \n",
       "5             110 x 55 x 10                         2   \n",
       "6             110 x 55 x 10                         2   \n",
       "7             110 x 55 x 10                         2   \n",
       "8             110 x 55 x 10                         2   \n",
       "9             110 x 55 x 10                         2   \n",
       "10            110 x 55 x 10                       1.5   \n",
       "11            110 x 55 x 10                       1.5   \n",
       "12            110 x 55 x 10                       1.5   \n",
       "13            110 x 55 x 10                       1.5   \n",
       "14            110 x 55 x 10                       1.5   \n",
       "15            110 x 55 x 10                       1.5   \n",
       "16            110 x 55 x 10                       1.5   \n",
       "17            110 x 55 x 10                       1.5   \n",
       "18            110 x 55 x 10                       1.5   \n",
       "19            110 x 55 x 10                       2.5   \n",
       "20            110 x 55 x 10                       2.5   \n",
       "21            110 x 55 x 10                       2.5   \n",
       "22            110 x 55 x 10                       2.5   \n",
       "23            110 x 55 x 10                       2.5   \n",
       "24            110 x 55 x 10                       2.5   \n",
       "25            110 x 55 x 10                       2.5   \n",
       "26            110 x 55 x 10                       2.5   \n",
       "27            110 x 55 x 10                       2.5   \n",
       "\n",
       "0  Fresh Air\\nTemperature\\nK  ... ht\\nW/m2 K      Nu  \\\n",
       "1                        285  ...      16.93  699.77   \n",
       "2                        285  ...      18.27  754.91   \n",
       "3                        285  ...      19.21  793.60   \n",
       "4                        285  ...      19.48  805.10   \n",
       "5                        285  ...      19.81  818.56   \n",
       "6                        285  ...      20.43  844.03   \n",
       "7                        285  ...      20.75  857.38   \n",
       "8                        285  ...      21.01  868.07   \n",
       "9                        285  ...      21.18  875.28   \n",
       "10                       285  ...      16.40  677.84   \n",
       "11                       285  ...      17.64  728.84   \n",
       "12                       285  ...      18.86  779.28   \n",
       "13                       285  ...      18.94  782.57   \n",
       "14                       285  ...      19.80  818.11   \n",
       "15                       285  ...      19.87  820.91   \n",
       "16                       285  ...      20.38  842.09   \n",
       "17                       285  ...      20.72  856.01   \n",
       "18                       285  ...      21.06  894.71   \n",
       "19                       285  ...      17.15  708.15   \n",
       "20                       285  ...      18.16  750.43   \n",
       "21                       285  ...      19.17  792.04   \n",
       "22                       285  ...      19.94  823.80   \n",
       "23                       285  ...      20.46  845.34   \n",
       "24                       285  ...      20.61  851.66   \n",
       "25                       285  ...      20.81  859.86   \n",
       "26                       285  ...      21.55  890.69   \n",
       "27                       285  ...      22.05  911.16   \n",
       "\n",
       "0  Area-weighted average\\nWall\\nyplus Max\\nWall\\nyplus    AUST      Ta  \\\n",
       "1                                 NaN              NaN  288.23  288.11   \n",
       "2                                5.30            18.57  288.27  287.54   \n",
       "3                                5.87            18.00  288.29  288.25   \n",
       "4                                5.62            18.74  288.29  288.15   \n",
       "5                                5.89            19.29  288.27  288.64   \n",
       "6                                6.00            21.57  288.34  288.01   \n",
       "7                                5.99            19.10  288.30  288.31   \n",
       "8                                6.23            19.17  288.29  288.32   \n",
       "9                                6.33            20.58  288.30  289.00   \n",
       "10                               4.40            14.77  288.22  288.53   \n",
       "11                               4.88            15.13  288.26  288.60   \n",
       "12                               4.83            16.99  288.17  287.64   \n",
       "13                               5.31            17.06  288.28  288.61   \n",
       "14                               5.53            17.70  288.27  288.27   \n",
       "15                               5.71            19.99  288.33  288.79   \n",
       "16                               5.90            20.56  288.29  288.25   \n",
       "17                               6.02            17.06  288.28  288.42   \n",
       "18                               6.22            21.34  288.31  288.71   \n",
       "19                               5.46            20.57  288.23  288.28   \n",
       "20                               6.18            22.85  288.27  288.30   \n",
       "21                               5.92            20.55  288.29  288.24   \n",
       "22                               5.99            20.71  288.29  288.18   \n",
       "23                               6.22            16.97  288.28  288.26   \n",
       "24                               6.21            19.18  288.34  288.32   \n",
       "25                               6.53            23.37  288.30  288.32   \n",
       "26                               6.48            20.37  288.30  288.31   \n",
       "27                               6.30            21.43  288.32  288.43   \n",
       "\n",
       "0       Ts Radiation\\nΔT Convection \\nΔT Total \\nΔT  \n",
       "1   313.00         24.77           24.89      24.78  \n",
       "2   318.00         29.73           30.46      29.75  \n",
       "3   323.00         34.71           34.75      34.05  \n",
       "4   328.00         39.71           39.85      39.72  \n",
       "5   333.00         44.73           44.36      44.70  \n",
       "6   338.00         49.66           49.99      49.67  \n",
       "7   343.00         54.70           54.69      54.90  \n",
       "8   348.00         59.71           59.68      59.83  \n",
       "9   353.00         64.70           64.00      65.16  \n",
       "10  313.00         24.78           24.47      24.78  \n",
       "11  318.00         29.74           29.40      29.71  \n",
       "12  323.00         34.83           35.36      34.74  \n",
       "13  328.00         39.72           39.39      39.72  \n",
       "14  333.00         44.73           44.73      43.92  \n",
       "15  338.00         49.67           49.21      49.43  \n",
       "16  343.00         54.71           54.75      54.66  \n",
       "17  348.00         59.72           59.58      59.63  \n",
       "18  353.00         64.69           64.29      64.60  \n",
       "19  313.00         24.77           24.72      24.77  \n",
       "20  318.00         29.73           29.70      29.76  \n",
       "21  323.00         34.71           34.76      34.73  \n",
       "22  328.00         39.71           39.82      39.71  \n",
       "23  333.00         44.72           44.74      44.06  \n",
       "24  338.00         49.66           49.68      49.67  \n",
       "25  343.00         54.70           54.68      55.71  \n",
       "26  348.00         59.70           59.69      59.64  \n",
       "27  353.00         64.68           64.57      64.60  \n",
       "\n",
       "[27 rows x 27 columns]"
      ]
     },
     "execution_count": 10,
     "metadata": {},
     "output_type": "execute_result"
    }
   ],
   "source": [
    "df"
   ]
  },
  {
   "cell_type": "code",
   "execution_count": null,
   "metadata": {},
   "outputs": [],
   "source": []
  },
  {
   "cell_type": "code",
   "execution_count": null,
   "metadata": {},
   "outputs": [],
   "source": []
  },
  {
   "cell_type": "code",
   "execution_count": null,
   "metadata": {},
   "outputs": [],
   "source": []
  },
  {
   "cell_type": "code",
   "execution_count": null,
   "metadata": {},
   "outputs": [],
   "source": [
    "X\n",
    "\n",
    "U @ S @ V"
   ]
  },
  {
   "cell_type": "code",
   "execution_count": 70,
   "metadata": {},
   "outputs": [],
   "source": [
    "from sklearn.datasets import make_blobs\n",
    "import numpy as np"
   ]
  },
  {
   "cell_type": "code",
   "execution_count": 71,
   "metadata": {},
   "outputs": [],
   "source": [
    "x, y = make_blobs(900, 4, 5)\n",
    "cov = x.T @ x"
   ]
  },
  {
   "cell_type": "code",
   "execution_count": 72,
   "metadata": {},
   "outputs": [
    {
     "data": {
      "text/plain": [
       "array([[-9.68159608, -3.24839399,  8.96059882, -9.91571567],\n",
       "       [-4.06253133, -4.73127807, -7.52573837, -4.62162616],\n",
       "       [-1.26886025,  3.51495115, -1.47004588, -6.23798065],\n",
       "       ...,\n",
       "       [ 0.22106644,  7.65479301, -0.39759412, -3.16031617],\n",
       "       [-5.05190341, -4.9287668 , -5.35322449, -4.57509382],\n",
       "       [ 4.73949266,  5.23273038,  7.85825724, -5.69623622]])"
      ]
     },
     "execution_count": 72,
     "metadata": {},
     "output_type": "execute_result"
    }
   ],
   "source": [
    "x"
   ]
  },
  {
   "cell_type": "code",
   "execution_count": 73,
   "metadata": {},
   "outputs": [
    {
     "data": {
      "text/plain": [
       "(900, 4)"
      ]
     },
     "execution_count": 73,
     "metadata": {},
     "output_type": "execute_result"
    }
   ],
   "source": [
    "x.shape"
   ]
  },
  {
   "cell_type": "code",
   "execution_count": 74,
   "metadata": {},
   "outputs": [
    {
     "data": {
      "text/plain": [
       "array([[ 31798.55,  16549.56,   2522.72,  16953.31],\n",
       "       [ 16549.56,  19516.  ,  12135.11,    243.77],\n",
       "       [  2522.72,  12135.11,  39518.12, -10270.13],\n",
       "       [ 16953.31,    243.77, -10270.13,  28796.77]])"
      ]
     },
     "execution_count": 74,
     "metadata": {},
     "output_type": "execute_result"
    }
   ],
   "source": [
    "cov.round(2)"
   ]
  },
  {
   "cell_type": "code",
   "execution_count": 75,
   "metadata": {},
   "outputs": [
    {
     "name": "stdout",
     "output_type": "stream",
     "text": [
      "U @ S @ V = cov\n",
      "[[ True  True  True  True]\n",
      " [ True  True  True  True]\n",
      " [ True  True  True  True]\n",
      " [ True  True  True  True]]\n"
     ]
    }
   ],
   "source": [
    "u, s, v = np.linalg.svd(cov)\n",
    "print('U @ S @ V = cov')\n",
    "print((cov - (u @ np.diag(s) @ v)) < 1e-9)"
   ]
  },
  {
   "cell_type": "code",
   "execution_count": 76,
   "metadata": {},
   "outputs": [
    {
     "data": {
      "text/plain": [
       "array([[-0.74327688,  0.11288889, -0.23495281,  0.61611099],\n",
       "       [-0.45526602, -0.26572412, -0.4962831 , -0.68980188],\n",
       "       [-0.22113848, -0.81766402,  0.52497176,  0.08323444],\n",
       "       [-0.43745869,  0.49806861,  0.6503114 , -0.37101569]])"
      ]
     },
     "execution_count": 76,
     "metadata": {},
     "output_type": "execute_result"
    }
   ],
   "source": [
    "u"
   ]
  },
  {
   "cell_type": "code",
   "execution_count": 77,
   "metadata": {},
   "outputs": [
    {
     "name": "stdout",
     "output_type": "stream",
     "text": [
      "ilk satirin ikinci satir uzerine izdusumu:\n",
      "[[0.]]\n"
     ]
    }
   ],
   "source": [
    "print('ilk satirin ikinci satir uzerine izdusumu:')\n",
    "print((u[0:1] @ u[1:2].T).round(2))  # herhangi iki satir/sutunun matris carpimi 0"
   ]
  },
  {
   "cell_type": "code",
   "execution_count": 78,
   "metadata": {},
   "outputs": [
    {
     "name": "stdout",
     "output_type": "stream",
     "text": [
      "ilk satirin ikinci satir uzerine izdusumu:\n",
      "[[1.]]\n"
     ]
    }
   ],
   "source": [
    "print('ilk satirin ikinci satir uzerine izdusumu:')\n",
    "print((u[0:1] @ u[0:1].T).round(2))  # herhangi iki satir/sutunun matris carpimi 0"
   ]
  },
  {
   "cell_type": "code",
   "execution_count": 79,
   "metadata": {},
   "outputs": [
    {
     "data": {
      "text/plain": [
       "0.9999999999999997"
      ]
     },
     "execution_count": 79,
     "metadata": {},
     "output_type": "execute_result"
    }
   ],
   "source": [
    "u[1] @ u[1].T"
   ]
  },
  {
   "cell_type": "code",
   "execution_count": 80,
   "metadata": {},
   "outputs": [
    {
     "data": {
      "text/plain": [
       "array([[1.]])"
      ]
     },
     "execution_count": 80,
     "metadata": {},
     "output_type": "execute_result"
    }
   ],
   "source": [
    "(np.array([[1, 1]]) @ np.array([[2], [0]])) / 2"
   ]
  },
  {
   "cell_type": "code",
   "execution_count": 81,
   "metadata": {},
   "outputs": [
    {
     "name": "stdout",
     "output_type": "stream",
     "text": [
      "Tum sutunlarin diger sutunlar uzerine izdusumu (yalnizca kendi uzerine izdusumleri birim uzunluk):\n",
      "[[ 1.  0.  0.  0.]\n",
      " [ 0.  1. -0. -0.]\n",
      " [ 0. -0.  1. -0.]\n",
      " [ 0. -0. -0.  1.]]\n"
     ]
    }
   ],
   "source": [
    "print('Tum sutunlarin diger sutunlar uzerine izdusumu (yalnizca kendi uzerine izdusumleri birim uzunluk):')\n",
    "print((u @ u.T).round(2))   # yukaridaki olayin tum satir/sutunlar icin gosterimi"
   ]
  },
  {
   "cell_type": "code",
   "execution_count": 82,
   "metadata": {},
   "outputs": [
    {
     "name": "stdout",
     "output_type": "stream",
     "text": [
      "Sutun uzunluklari:\n",
      "[1. 1. 1. 1.]\n",
      "Satir uzunluklari:\n",
      "[1. 1. 1. 1.]\n"
     ]
    }
   ],
   "source": [
    "print('Sutun uzunluklari:')\n",
    "print(((u**2).sum(axis=1))**0.5)   # sutunlar birim uzunluga esit\n",
    "print('Satir uzunluklari:')\n",
    "print(((u**2).sum(axis=0))**0.5)   # satirlar birim uzunluga esit"
   ]
  },
  {
   "cell_type": "code",
   "execution_count": 83,
   "metadata": {},
   "outputs": [
    {
     "data": {
      "text/plain": [
       "array([52663.84683708, 49369.39597694, 14194.94303799,  3401.2527421 ])"
      ]
     },
     "execution_count": 83,
     "metadata": {},
     "output_type": "execute_result"
    }
   ],
   "source": [
    "s"
   ]
  },
  {
   "cell_type": "code",
   "execution_count": 84,
   "metadata": {},
   "outputs": [
    {
     "name": "stdout",
     "output_type": "stream",
     "text": [
      "Korunan varyans orani:\n",
      "[0.44022481 0.41268601 0.11865761 0.02843157]\n"
     ]
    }
   ],
   "source": [
    "print('Korunan varyans orani:')\n",
    "print((s/s.sum())\n",
    "#       .cumsum()\n",
    "     )"
   ]
  },
  {
   "cell_type": "code",
   "execution_count": 85,
   "metadata": {},
   "outputs": [],
   "source": [
    "n_components = 2"
   ]
  },
  {
   "cell_type": "code",
   "execution_count": 86,
   "metadata": {},
   "outputs": [],
   "source": [
    "import matplotlib.pyplot as plt"
   ]
  },
  {
   "cell_type": "code",
   "execution_count": 87,
   "metadata": {},
   "outputs": [],
   "source": [
    "X_pc = x @ u[:, :n_components]"
   ]
  },
  {
   "cell_type": "code",
   "execution_count": 88,
   "metadata": {},
   "outputs": [
    {
     "data": {
      "text/plain": [
       "<matplotlib.collections.PathCollection at 0x16de18e2948>"
      ]
     },
     "execution_count": 88,
     "metadata": {},
     "output_type": "execute_result"
    },
    {
     "data": {
      "image/png": "[encoded data removed]",
      "text/plain": [
       "<Figure size 432x288 with 1 Axes>"
      ]
     },
     "metadata": {
      "needs_background": "light"
     },
     "output_type": "display_data"
    }
   ],
   "source": [
    "plt.scatter(*X_pc.T, c=y)"
   ]
  },
  {
   "cell_type": "code",
   "execution_count": 89,
   "metadata": {},
   "outputs": [],
   "source": [
    "from sklearn.decomposition import PCA"
   ]
  },
  {
   "cell_type": "code",
   "execution_count": 90,
   "metadata": {},
   "outputs": [
    {
     "data": {
      "text/plain": [
       "<matplotlib.collections.PathCollection at 0x16de2e38908>"
      ]
     },
     "execution_count": 90,
     "metadata": {},
     "output_type": "execute_result"
    },
    {
     "data": {
      "image/png": "[encoded data removed]",
      "text/plain": [
       "<Figure size 432x288 with 1 Axes>"
      ]
     },
     "metadata": {
      "needs_background": "light"
     },
     "output_type": "display_data"
    }
   ],
   "source": [
    "X_p = PCA(n_components=2).fit_transform(x)\n",
    "plt.scatter(*X_p.T, c=y)"
   ]
  },
  {
   "cell_type": "code",
   "execution_count": 91,
   "metadata": {},
   "outputs": [],
   "source": [
    "x = [921, 905, 145, 256, 301]"
   ]
  },
  {
   "cell_type": "code",
   "execution_count": 93,
   "metadata": {},
   "outputs": [
    {
     "data": {
      "text/plain": [
       "505.6"
      ]
     },
     "execution_count": 93,
     "metadata": {},
     "output_type": "execute_result"
    }
   ],
   "source": [
    "np.mean(x)"
   ]
  },
  {
   "cell_type": "code",
   "execution_count": 94,
   "metadata": {},
   "outputs": [],
   "source": [
    "y = [17, 42, 23, 45, 52, 95, 26]\n",
    "yhat = [18, 41, 24, 48, 55, 65, 25]"
   ]
  },
  {
   "cell_type": "code",
   "execution_count": 95,
   "metadata": {},
   "outputs": [],
   "source": [
    "y = np.array(y)\n",
    "yhat = np.array(yhat)"
   ]
  },
  {
   "cell_type": "code",
   "execution_count": 97,
   "metadata": {},
   "outputs": [
    {
     "data": {
      "text/plain": [
       "5.714285714285714"
      ]
     },
     "execution_count": 97,
     "metadata": {},
     "output_type": "execute_result"
    }
   ],
   "source": [
    "(np.abs(y - yhat)).mean()"
   ]
  },
  {
   "cell_type": "code",
   "execution_count": 103,
   "metadata": {},
   "outputs": [],
   "source": [
    "X = np.random.randn(9000, 98)\n",
    "y = np.random.randn(9000)"
   ]
  },
  {
   "cell_type": "code",
   "execution_count": null,
   "metadata": {},
   "outputs": [],
   "source": []
  },
  {
   "cell_type": "code",
   "execution_count": 108,
   "metadata": {},
   "outputs": [],
   "source": [
    "from sklearn.linear_model import LinearRegression\n",
    "from sklearn.datasets import make_regression"
   ]
  },
  {
   "cell_type": "code",
   "execution_count": 109,
   "metadata": {},
   "outputs": [],
   "source": [
    "X, y = make_regression(n_samples=9000, n_features=100)"
   ]
  },
  {
   "cell_type": "code",
   "execution_count": 110,
   "metadata": {},
   "outputs": [
    {
     "data": {
      "text/plain": [
       "LinearRegression(copy_X=True, fit_intercept=True, n_jobs=None, normalize=False)"
      ]
     },
     "execution_count": 110,
     "metadata": {},
     "output_type": "execute_result"
    }
   ],
   "source": [
    "lm = LinearRegression()\n",
    "lm.fit(X, y)"
   ]
  },
  {
   "cell_type": "code",
   "execution_count": 111,
   "metadata": {},
   "outputs": [
    {
     "data": {
      "text/plain": [
       "1.0"
      ]
     },
     "execution_count": 111,
     "metadata": {},
     "output_type": "execute_result"
    }
   ],
   "source": [
    "lm.score(X, y)"
   ]
  },
  {
   "cell_type": "code",
   "execution_count": 114,
   "metadata": {},
   "outputs": [
    {
     "data": {
      "text/plain": [
       "[<matplotlib.lines.Line2D at 0x16de2a56848>]"
      ]
     },
     "execution_count": 114,
     "metadata": {},
     "output_type": "execute_result"
    },
    {
     "data": {
      "image/png": "[encoded data removed]",
      "text/plain": [
       "<Figure size 432x288 with 1 Axes>"
      ]
     },
     "metadata": {
      "needs_background": "light"
     },
     "output_type": "display_data"
    }
   ],
   "source": [
    "r = []\n",
    "for i in range(1, X.shape[1] + 1):\n",
    "    Xi = X[:, :i]\n",
    "    lm.fit(Xi, y)\n",
    "    r.append(lm.score(Xi, y))\n",
    "\n",
    "plt.plot(r)"
   ]
  },
  {
   "cell_type": "code",
   "execution_count": 116,
   "metadata": {},
   "outputs": [
    {
     "data": {
      "text/plain": [
       "[<matplotlib.lines.Line2D at 0x16de2b12ac8>]"
      ]
     },
     "execution_count": 116,
     "metadata": {},
     "output_type": "execute_result"
    },
    {
     "data": {
      "image/png": "[encoded data removed]",
      "text/plain": [
       "<Figure size 432x288 with 1 Axes>"
      ]
     },
     "metadata": {
      "needs_background": "light"
     },
     "output_type": "display_data"
    }
   ],
   "source": [
    "r = []\n",
    "for i in range(1, X.shape[1] + 1):\n",
    "    Xi = X[:, :i]\n",
    "    lm.fit(Xi, y)\n",
    "    r.append(lm.score(Xi, y))\n",
    "\n",
    "plt.plot(r[80:100])"
   ]
  },
  {
   "cell_type": "code",
   "execution_count": null,
   "metadata": {},
   "outputs": [],
   "source": []
  }
 ],
 "metadata": {
  "kernelspec": {
   "display_name": "Python 3.7.4 Base",
   "language": "python",
   "name": "python3"
  },
  "language_info": {
   "codemirror_mode": {
    "name": "ipython",
    "version": 3
   },
   "file_extension": ".py",
   "mimetype": "text/x-python",
   "name": "python",
   "nbconvert_exporter": "python",
   "pygments_lexer": "ipython3",
   "version": "3.7.4"
  }
 },
 "nbformat": 4,
 "nbformat_minor": 2
}
